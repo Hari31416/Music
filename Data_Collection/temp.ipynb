{
 "cells": [
  {
   "cell_type": "code",
   "execution_count": 1,
   "metadata": {},
   "outputs": [],
   "source": [
    "import spotipy\n",
    "import re\n",
    "from decouple import config\n",
    "import pandas as pd\n",
    "import numpy as np\n",
    "import matplotlib.pyplot as plt\n",
    "import json\n",
    "import warnings\n",
    "import seaborn as sns\n",
    "import requests\n",
    "import time\n",
    "import bs4\n",
    "import webdriver_manager\n",
    "from selenium.webdriver.common.by import By\n",
    "from selenium.webdriver.common.keys import Keys\n",
    "from selenium import webdriver\n",
    "from webdriver_manager.chrome import ChromeDriverManager\n",
    "from webdriver_manager.firefox import GeckoDriverManager\n",
    "from selenium.webdriver.chrome.service import Service as ChromeService\n",
    "from IPython.display import clear_output\n",
    "import time\n",
    "from tqdm import tqdm\n",
    "import pandas as pd\n",
    "import IPython\n",
    "import os\n",
    "from decouple import config\n",
    "import re\n",
    "from IPython.display import clear_output\n",
    "warnings.filterwarnings('ignore')"
   ]
  },
  {
   "cell_type": "code",
   "execution_count": 83,
   "metadata": {},
   "outputs": [],
   "source": [
    "driver = webdriver.Chrome(service=ChromeService(ChromeDriverManager().install()))"
   ]
  },
  {
   "cell_type": "code",
   "execution_count": 3,
   "metadata": {},
   "outputs": [
    {
     "data": {
      "text/html": [
       "<div>\n",
       "<style scoped>\n",
       "    .dataframe tbody tr th:only-of-type {\n",
       "        vertical-align: middle;\n",
       "    }\n",
       "\n",
       "    .dataframe tbody tr th {\n",
       "        vertical-align: top;\n",
       "    }\n",
       "\n",
       "    .dataframe thead th {\n",
       "        text-align: right;\n",
       "    }\n",
       "</style>\n",
       "<table border=\"1\" class=\"dataframe\">\n",
       "  <thead>\n",
       "    <tr style=\"text-align: right;\">\n",
       "      <th></th>\n",
       "      <th>album_id</th>\n",
       "      <th>album_name</th>\n",
       "      <th>total_tracks</th>\n",
       "      <th>release_date</th>\n",
       "      <th>album_uri</th>\n",
       "      <th>spotify_url</th>\n",
       "      <th>image_url</th>\n",
       "      <th>artist_id</th>\n",
       "    </tr>\n",
       "  </thead>\n",
       "  <tbody>\n",
       "    <tr>\n",
       "      <th>0</th>\n",
       "      <td>4DvNMpnlo9GoWiTJWMfRAA</td>\n",
       "      <td>Ogo Chirabedanar Sathi - Hemanta Mukherjee</td>\n",
       "      <td>7</td>\n",
       "      <td>2022-05-04</td>\n",
       "      <td>spotify:album:4DvNMpnlo9GoWiTJWMfRAA</td>\n",
       "      <td>https://open.spotify.com/album/4DvNMpnlo9GoWiT...</td>\n",
       "      <td>https://i.scdn.co/image/ab67616d0000b27308b9a7...</td>\n",
       "      <td>02Um2HIOrUdsy3wqPBZwsj</td>\n",
       "    </tr>\n",
       "    <tr>\n",
       "      <th>1</th>\n",
       "      <td>2YOOgRzDIgOp0kdZACTVFc</td>\n",
       "      <td>Olo Soi Dekhey Jarey Dekhey Ja</td>\n",
       "      <td>17</td>\n",
       "      <td>2020-09-30</td>\n",
       "      <td>spotify:album:2YOOgRzDIgOp0kdZACTVFc</td>\n",
       "      <td>https://open.spotify.com/album/2YOOgRzDIgOp0kd...</td>\n",
       "      <td>https://i.scdn.co/image/ab67616d0000b2732c2ff2...</td>\n",
       "      <td>02Um2HIOrUdsy3wqPBZwsj</td>\n",
       "    </tr>\n",
       "    <tr>\n",
       "      <th>2</th>\n",
       "      <td>3aXxkiwm7EBXRXiM3xMcpX</td>\n",
       "      <td>Eso Amar Ghare</td>\n",
       "      <td>18</td>\n",
       "      <td>2020-01-06</td>\n",
       "      <td>spotify:album:3aXxkiwm7EBXRXiM3xMcpX</td>\n",
       "      <td>https://open.spotify.com/album/3aXxkiwm7EBXRXi...</td>\n",
       "      <td>https://i.scdn.co/image/ab67616d0000b273782940...</td>\n",
       "      <td>02Um2HIOrUdsy3wqPBZwsj</td>\n",
       "    </tr>\n",
       "    <tr>\n",
       "      <th>3</th>\n",
       "      <td>0ixRvfbmnmd4hBYCDzMljp</td>\n",
       "      <td>Moli (Original Motion Picture Soundtrack)</td>\n",
       "      <td>8</td>\n",
       "      <td>2011-04-01</td>\n",
       "      <td>spotify:album:0ixRvfbmnmd4hBYCDzMljp</td>\n",
       "      <td>https://open.spotify.com/album/0ixRvfbmnmd4hBY...</td>\n",
       "      <td>https://i.scdn.co/image/ab67616d0000b273c8621b...</td>\n",
       "      <td>02Um2HIOrUdsy3wqPBZwsj</td>\n",
       "    </tr>\n",
       "    <tr>\n",
       "      <th>4</th>\n",
       "      <td>5b6jzg1UcSFNheady0Md24</td>\n",
       "      <td>Saikat Mukherjee With His Golden Harmonica</td>\n",
       "      <td>37</td>\n",
       "      <td>2008-11-01</td>\n",
       "      <td>spotify:album:5b6jzg1UcSFNheady0Md24</td>\n",
       "      <td>https://open.spotify.com/album/5b6jzg1UcSFNhea...</td>\n",
       "      <td>https://i.scdn.co/image/ab67616d0000b27340580f...</td>\n",
       "      <td>02Um2HIOrUdsy3wqPBZwsj</td>\n",
       "    </tr>\n",
       "  </tbody>\n",
       "</table>\n",
       "</div>"
      ],
      "text/plain": [
       "                 album_id                                  album_name  \\\n",
       "0  4DvNMpnlo9GoWiTJWMfRAA  Ogo Chirabedanar Sathi - Hemanta Mukherjee   \n",
       "1  2YOOgRzDIgOp0kdZACTVFc              Olo Soi Dekhey Jarey Dekhey Ja   \n",
       "2  3aXxkiwm7EBXRXiM3xMcpX                              Eso Amar Ghare   \n",
       "3  0ixRvfbmnmd4hBYCDzMljp   Moli (Original Motion Picture Soundtrack)   \n",
       "4  5b6jzg1UcSFNheady0Md24  Saikat Mukherjee With His Golden Harmonica   \n",
       "\n",
       "   total_tracks release_date                             album_uri  \\\n",
       "0             7   2022-05-04  spotify:album:4DvNMpnlo9GoWiTJWMfRAA   \n",
       "1            17   2020-09-30  spotify:album:2YOOgRzDIgOp0kdZACTVFc   \n",
       "2            18   2020-01-06  spotify:album:3aXxkiwm7EBXRXiM3xMcpX   \n",
       "3             8   2011-04-01  spotify:album:0ixRvfbmnmd4hBYCDzMljp   \n",
       "4            37   2008-11-01  spotify:album:5b6jzg1UcSFNheady0Md24   \n",
       "\n",
       "                                         spotify_url  \\\n",
       "0  https://open.spotify.com/album/4DvNMpnlo9GoWiT...   \n",
       "1  https://open.spotify.com/album/2YOOgRzDIgOp0kd...   \n",
       "2  https://open.spotify.com/album/3aXxkiwm7EBXRXi...   \n",
       "3  https://open.spotify.com/album/0ixRvfbmnmd4hBY...   \n",
       "4  https://open.spotify.com/album/5b6jzg1UcSFNhea...   \n",
       "\n",
       "                                           image_url               artist_id  \n",
       "0  https://i.scdn.co/image/ab67616d0000b27308b9a7...  02Um2HIOrUdsy3wqPBZwsj  \n",
       "1  https://i.scdn.co/image/ab67616d0000b2732c2ff2...  02Um2HIOrUdsy3wqPBZwsj  \n",
       "2  https://i.scdn.co/image/ab67616d0000b273782940...  02Um2HIOrUdsy3wqPBZwsj  \n",
       "3  https://i.scdn.co/image/ab67616d0000b273c8621b...  02Um2HIOrUdsy3wqPBZwsj  \n",
       "4  https://i.scdn.co/image/ab67616d0000b27340580f...  02Um2HIOrUdsy3wqPBZwsj  "
      ]
     },
     "execution_count": 3,
     "metadata": {},
     "output_type": "execute_result"
    }
   ],
   "source": [
    "albums = pd.read_csv(\"data/albums.csv\")\n",
    "albums.head()"
   ]
  },
  {
   "cell_type": "code",
   "execution_count": 4,
   "metadata": {},
   "outputs": [
    {
     "data": {
      "text/plain": [
       "0       Ogo Chirabedanar Sathi - Hemanta Mukherjee\n",
       "1                   Olo Soi Dekhey Jarey Dekhey Ja\n",
       "2                                   Eso Amar Ghare\n",
       "3        Moli (Original Motion Picture Soundtrack)\n",
       "4       Saikat Mukherjee With His Golden Harmonica\n",
       "                           ...                    \n",
       "1930                                       Routine\n",
       "1931                    Faded (Lost Stories Remix)\n",
       "1932                              Sing Me to Sleep\n",
       "1933                               Faded (Remixes)\n",
       "1934                                         Faded\n",
       "Name: album_name, Length: 1935, dtype: object"
      ]
     },
     "execution_count": 4,
     "metadata": {},
     "output_type": "execute_result"
    }
   ],
   "source": [
    "albums[\"album_name\"]"
   ]
  },
  {
   "cell_type": "code",
   "execution_count": 84,
   "metadata": {},
   "outputs": [],
   "source": [
    "def extract_name(name):\n",
    "    name = re.sub(r' \\(.*\\)', '', name)\n",
    "    name = re.sub(r'-.*', '', name)\n",
    "    name = re.sub(r'feat.*', '', name)\n",
    "    name = re.sub(r':.*', '', name)\n",
    "    name = re.sub(\"Volume\", \"\", name)\n",
    "    name = re.search(r'([A-Za-z\\s]+)', name)\n",
    "    if name:\n",
    "        name = name.group()\n",
    "        return name.strip()\n",
    "    # return name.strip()"
   ]
  },
  {
   "cell_type": "code",
   "execution_count": 85,
   "metadata": {},
   "outputs": [
    {
     "data": {
      "text/plain": [
       "0                           Ogo Chirabedanar Sathi\n",
       "1                   Olo Soi Dekhey Jarey Dekhey Ja\n",
       "2                                   Eso Amar Ghare\n",
       "3                                             Moli\n",
       "4       Saikat Mukherjee With His Golden Harmonica\n",
       "                           ...                    \n",
       "1930                                       Routine\n",
       "1931                                         Faded\n",
       "1932                              Sing Me to Sleep\n",
       "1933                                         Faded\n",
       "1934                                         Faded\n",
       "Name: album_name, Length: 1935, dtype: object"
      ]
     },
     "execution_count": 85,
     "metadata": {},
     "output_type": "execute_result"
    }
   ],
   "source": [
    "album_names = albums[\"album_name\"].apply(extract_name)\n",
    "album_names"
   ]
  },
  {
   "cell_type": "code",
   "execution_count": 86,
   "metadata": {},
   "outputs": [
    {
     "name": "stderr",
     "output_type": "stream",
     "text": [
      "Detecting: 100%|██████████| 20/20 [01:06<00:00,  3.33s/it]\n"
     ]
    }
   ],
   "source": [
    "detected = []\n",
    "for i in tqdm(range(20), desc=\"Detecting\"):\n",
    "    text = album_names[100+i]\n",
    "    text = text.replace(\" \", \"%20\")\n",
    "    url = f\"https://translate.google.co.in/?sl=auto&tl=en&text={text}&op=translate\"\n",
    "    driver.get(url)\n",
    "    text_detected = \"\"\n",
    "    j=0\n",
    "    while True:\n",
    "        text_detected = driver.find_element(By.CSS_SELECTOR, \".VfPpkd-AznF2e-LUERP-bN97Pc\").text\n",
    "        if \"detected\" in text_detected.lower() or j>10:\n",
    "            break\n",
    "        time.sleep(1)\n",
    "        j+=1\n",
    "    text_detected = text_detected.lower()\n",
    "    if \"detected\" in text_detected:\n",
    "        lang_detected = text_detected.split(\"-\")[0].strip()\n",
    "        detected.append(lang_detected)\n",
    "    else:\n",
    "        print(\"Not detected\")"
   ]
  },
  {
   "cell_type": "code",
   "execution_count": 87,
   "metadata": {},
   "outputs": [
    {
     "name": "stdout",
     "output_type": "stream",
     "text": [
      "Hemanta Mukherjee Protham Prodip - bengali\n",
      "New Bengali Songs Edited From Old Source - english\n",
      "Emon Diney Taare Bola Jaay - bengali\n",
      "Gaaner Surer Dhara - bengali\n",
      "Tuni Bou - arabic\n",
      "Pratibha - english\n",
      "Parashmoni - albanian\n",
      "Bengali Modern Songs Munmun Ghosh - bengali\n",
      "Ashirbad - bengali\n",
      "Hemanta Mukherjee Rabindra Sangeet - gujarati\n",
      "Rajeswari - malay\n",
      "Surer Akashay - hindi\n",
      "Surja Trishna - hindi\n",
      "Pratiksha - hindi\n",
      "Uttar Meleni - kannada\n",
      "Kapalkundala - slovenian\n",
      "Khana Baraha - hindi\n",
      "Meghmukti - javanese\n",
      "Subarna Golak - bengali\n",
      "Sudurer Piyasi - bengali\n"
     ]
    }
   ],
   "source": [
    "for i in range(len(detected)):\n",
    "    print(f\"{album_names[100+i]} - {detected[i]}\")"
   ]
  },
  {
   "cell_type": "code",
   "execution_count": 55,
   "metadata": {},
   "outputs": [
    {
     "name": "stdout",
     "output_type": "stream",
     "text": [
      "hindi - detected\n",
      "english\n",
      "spanish\n",
      "french\n"
     ]
    }
   ],
   "source": [
    "text_detected = driver.find_element(By.CSS_SELECTOR, \".VfPpkd-AznF2e-LUERP-bN97Pc\").text\n",
    "text_detected = text_detected.lower()\n",
    "print(text_detected)"
   ]
  },
  {
   "cell_type": "code",
   "execution_count": 58,
   "metadata": {},
   "outputs": [
    {
     "name": "stdout",
     "output_type": "stream",
     "text": [
      "Hindi\n"
     ]
    }
   ],
   "source": [
    "if \"detected\" in text_detected:\n",
    "    lang_detected = text_detected.split(\"-\")[0].strip()\n",
    "    print(lang_detected.title())"
   ]
  },
  {
   "attachments": {},
   "cell_type": "markdown",
   "metadata": {},
   "source": [
    "## Artist"
   ]
  },
  {
   "cell_type": "code",
   "execution_count": 5,
   "metadata": {},
   "outputs": [
    {
     "data": {
      "text/html": [
       "<div>\n",
       "<style scoped>\n",
       "    .dataframe tbody tr th:only-of-type {\n",
       "        vertical-align: middle;\n",
       "    }\n",
       "\n",
       "    .dataframe tbody tr th {\n",
       "        vertical-align: top;\n",
       "    }\n",
       "\n",
       "    .dataframe thead th {\n",
       "        text-align: right;\n",
       "    }\n",
       "</style>\n",
       "<table border=\"1\" class=\"dataframe\">\n",
       "  <thead>\n",
       "    <tr style=\"text-align: right;\">\n",
       "      <th></th>\n",
       "      <th>artist_id</th>\n",
       "      <th>artist_name</th>\n",
       "      <th>genres</th>\n",
       "      <th>popularity</th>\n",
       "      <th>artist_uri</th>\n",
       "      <th>followers</th>\n",
       "      <th>spotify_url</th>\n",
       "      <th>image_url</th>\n",
       "    </tr>\n",
       "  </thead>\n",
       "  <tbody>\n",
       "    <tr>\n",
       "      <th>0</th>\n",
       "      <td>02Um2HIOrUdsy3wqPBZwsj</td>\n",
       "      <td>Hemant Kumar</td>\n",
       "      <td>['classic bollywood', 'classic pakistani pop',...</td>\n",
       "      <td>52</td>\n",
       "      <td>spotify:artist:02Um2HIOrUdsy3wqPBZwsj</td>\n",
       "      <td>923384</td>\n",
       "      <td>https://open.spotify.com/artist/02Um2HIOrUdsy3...</td>\n",
       "      <td>https://i.scdn.co/image/ab67616d0000b2738c9945...</td>\n",
       "    </tr>\n",
       "    <tr>\n",
       "      <th>1</th>\n",
       "      <td>06HL4z0CvFAxyc27GXpf02</td>\n",
       "      <td>Taylor Swift</td>\n",
       "      <td>['pop']</td>\n",
       "      <td>94</td>\n",
       "      <td>spotify:artist:06HL4z0CvFAxyc27GXpf02</td>\n",
       "      <td>59135608</td>\n",
       "      <td>https://open.spotify.com/artist/06HL4z0CvFAxyc...</td>\n",
       "      <td>https://i.scdn.co/image/ab6761610000e5ebfcf7c3...</td>\n",
       "    </tr>\n",
       "    <tr>\n",
       "      <th>2</th>\n",
       "      <td>0C8ZW7ezQVs4URX5aX7Kqx</td>\n",
       "      <td>Selena Gomez</td>\n",
       "      <td>['dance pop', 'pop', 'post-teen pop']</td>\n",
       "      <td>83</td>\n",
       "      <td>spotify:artist:0C8ZW7ezQVs4URX5aX7Kqx</td>\n",
       "      <td>37486770</td>\n",
       "      <td>https://open.spotify.com/artist/0C8ZW7ezQVs4UR...</td>\n",
       "      <td>https://i.scdn.co/image/ab6761610000e5eba5205a...</td>\n",
       "    </tr>\n",
       "    <tr>\n",
       "      <th>3</th>\n",
       "      <td>0GF4shudTAFv8ak9eWdd4Y</td>\n",
       "      <td>Kishore Kumar</td>\n",
       "      <td>['classic bollywood', 'desi pop', 'filmi', 'mo...</td>\n",
       "      <td>70</td>\n",
       "      <td>spotify:artist:0GF4shudTAFv8ak9eWdd4Y</td>\n",
       "      <td>5374483</td>\n",
       "      <td>https://open.spotify.com/artist/0GF4shudTAFv8a...</td>\n",
       "      <td>https://i.scdn.co/image/ab6761610000e5ebc9ac92...</td>\n",
       "    </tr>\n",
       "    <tr>\n",
       "      <th>4</th>\n",
       "      <td>0QsbYX8XslSSUcztc6u4pO</td>\n",
       "      <td>Geeta Dutt</td>\n",
       "      <td>['classic bollywood', 'classic pakistani pop',...</td>\n",
       "      <td>47</td>\n",
       "      <td>spotify:artist:0QsbYX8XslSSUcztc6u4pO</td>\n",
       "      <td>663551</td>\n",
       "      <td>https://open.spotify.com/artist/0QsbYX8XslSSUc...</td>\n",
       "      <td>https://i.scdn.co/image/ab67616d0000b273f6d093...</td>\n",
       "    </tr>\n",
       "  </tbody>\n",
       "</table>\n",
       "</div>"
      ],
      "text/plain": [
       "                artist_id    artist_name  \\\n",
       "0  02Um2HIOrUdsy3wqPBZwsj   Hemant Kumar   \n",
       "1  06HL4z0CvFAxyc27GXpf02   Taylor Swift   \n",
       "2  0C8ZW7ezQVs4URX5aX7Kqx   Selena Gomez   \n",
       "3  0GF4shudTAFv8ak9eWdd4Y  Kishore Kumar   \n",
       "4  0QsbYX8XslSSUcztc6u4pO     Geeta Dutt   \n",
       "\n",
       "                                              genres  popularity  \\\n",
       "0  ['classic bollywood', 'classic pakistani pop',...          52   \n",
       "1                                            ['pop']          94   \n",
       "2              ['dance pop', 'pop', 'post-teen pop']          83   \n",
       "3  ['classic bollywood', 'desi pop', 'filmi', 'mo...          70   \n",
       "4  ['classic bollywood', 'classic pakistani pop',...          47   \n",
       "\n",
       "                              artist_uri  followers  \\\n",
       "0  spotify:artist:02Um2HIOrUdsy3wqPBZwsj     923384   \n",
       "1  spotify:artist:06HL4z0CvFAxyc27GXpf02   59135608   \n",
       "2  spotify:artist:0C8ZW7ezQVs4URX5aX7Kqx   37486770   \n",
       "3  spotify:artist:0GF4shudTAFv8ak9eWdd4Y    5374483   \n",
       "4  spotify:artist:0QsbYX8XslSSUcztc6u4pO     663551   \n",
       "\n",
       "                                         spotify_url  \\\n",
       "0  https://open.spotify.com/artist/02Um2HIOrUdsy3...   \n",
       "1  https://open.spotify.com/artist/06HL4z0CvFAxyc...   \n",
       "2  https://open.spotify.com/artist/0C8ZW7ezQVs4UR...   \n",
       "3  https://open.spotify.com/artist/0GF4shudTAFv8a...   \n",
       "4  https://open.spotify.com/artist/0QsbYX8XslSSUc...   \n",
       "\n",
       "                                           image_url  \n",
       "0  https://i.scdn.co/image/ab67616d0000b2738c9945...  \n",
       "1  https://i.scdn.co/image/ab6761610000e5ebfcf7c3...  \n",
       "2  https://i.scdn.co/image/ab6761610000e5eba5205a...  \n",
       "3  https://i.scdn.co/image/ab6761610000e5ebc9ac92...  \n",
       "4  https://i.scdn.co/image/ab67616d0000b273f6d093...  "
      ]
     },
     "execution_count": 5,
     "metadata": {},
     "output_type": "execute_result"
    }
   ],
   "source": [
    "artists = pd.read_csv(\"data/artists.csv\")\n",
    "artists.head()"
   ]
  },
  {
   "cell_type": "code",
   "execution_count": 28,
   "metadata": {},
   "outputs": [],
   "source": [
    "genres = artists.genres\n",
    "artists = artists.artist_name"
   ]
  },
  {
   "cell_type": "code",
   "execution_count": 25,
   "metadata": {},
   "outputs": [],
   "source": [
    "import ast\n",
    "\n",
    "genres = genres.apply(lambda x: ast.literal_eval(str(x)))\n",
    "unique_genres = set()\n",
    "for i in genres:\n",
    "   for j in i:\n",
    "       unique_genres.add(j)"
   ]
  },
  {
   "cell_type": "code",
   "execution_count": 26,
   "metadata": {},
   "outputs": [
    {
     "data": {
      "text/plain": [
       "{'art pop',\n",
       " 'australian country',\n",
       " 'australian pop',\n",
       " 'british soul',\n",
       " 'broadway',\n",
       " 'canadian pop',\n",
       " 'canadian soundtrack',\n",
       " 'chutney',\n",
       " 'classic bollywood',\n",
       " 'classic pakistani pop',\n",
       " 'classic rock',\n",
       " 'classic tollywood',\n",
       " 'contemporary country',\n",
       " 'country',\n",
       " 'country dawn',\n",
       " 'country road',\n",
       " 'dance pop',\n",
       " 'desi pop',\n",
       " 'disney',\n",
       " 'eau claire indie',\n",
       " 'electro house',\n",
       " 'electropop',\n",
       " 'filmi',\n",
       " 'ghazal',\n",
       " 'glam rock',\n",
       " 'hollywood',\n",
       " 'indie folk',\n",
       " 'k-pop',\n",
       " 'lata',\n",
       " 'melancholia',\n",
       " 'mellow gold',\n",
       " 'modern bollywood',\n",
       " 'movie tunes',\n",
       " 'neo mellow',\n",
       " 'orchestral soundtrack',\n",
       " 'pop',\n",
       " 'pop rock',\n",
       " 'pop soul',\n",
       " 'post-teen pop',\n",
       " 'r&b',\n",
       " 'rabindra sangeet',\n",
       " 'rock',\n",
       " 'rock drums',\n",
       " 'scandipop',\n",
       " 'show tunes',\n",
       " 'soft rock',\n",
       " 'soundtrack',\n",
       " 'sufi',\n",
       " 'texas country',\n",
       " 'uk pop',\n",
       " 'vapor pop',\n",
       " 'viral pop'}"
      ]
     },
     "execution_count": 26,
     "metadata": {},
     "output_type": "execute_result"
    }
   ],
   "source": [
    "unique_genres"
   ]
  },
  {
   "cell_type": "code",
   "execution_count": 35,
   "metadata": {},
   "outputs": [],
   "source": [
    "genre_artist = {}\n",
    "for i in unique_genres:\n",
    "    genre_artist[i] = list(artists[genres.apply(lambda x: i in x)])"
   ]
  },
  {
   "cell_type": "code",
   "execution_count": 40,
   "metadata": {},
   "outputs": [
    {
     "data": {
      "text/plain": [
       "{'broadway': ['Alan Menken'],\n",
       " 'lata': ['Lata Mangeshkar'],\n",
       " 'r&b': ['Beyoncé'],\n",
       " 'australian pop': ['Keith Urban'],\n",
       " 'country': ['Keith Urban', 'Miranda Lambert', 'Maren Morris'],\n",
       " 'canadian soundtrack': ['Christophe Beck'],\n",
       " 'electropop': ['Billie Eilish'],\n",
       " 'movie tunes': ['Alan Menken', \"Paige O'Hara\"],\n",
       " 'soft rock': ['Phil Collins'],\n",
       " 'texas country': ['Maren Morris'],\n",
       " 'classic tollywood': ['Mohammed Rafi'],\n",
       " 'country road': ['Keith Urban'],\n",
       " 'british soul': ['Adele'],\n",
       " 'rock drums': ['Phil Collins'],\n",
       " 'glam rock': ['Queen', 'Freddie Mercury'],\n",
       " 'canadian pop': ['Justin Bieber', 'Céline Dion', 'Shawn Mendes'],\n",
       " 'rock': ['Queen', 'Freddie Mercury', 'Phil Collins', 'Christina Perri'],\n",
       " 'pop': ['Hemant Kumar',\n",
       "  'Taylor Swift',\n",
       "  'Selena Gomez',\n",
       "  'Kishore Kumar',\n",
       "  'Geeta Dutt',\n",
       "  'Mohammed Rafi',\n",
       "  'Keith Urban',\n",
       "  'Lady Gaga',\n",
       "  'Justin Bieber',\n",
       "  'Britney Spears',\n",
       "  'Naomi Scott',\n",
       "  'ROSÉ',\n",
       "  'Lewis Capaldi',\n",
       "  'Céline Dion',\n",
       "  'Adele',\n",
       "  'Mukesh',\n",
       "  'Camila Cabello',\n",
       "  'Asha Bhosle',\n",
       "  'Lata Mangeshkar',\n",
       "  'Harry Styles',\n",
       "  'Dua Lipa',\n",
       "  'Maren Morris',\n",
       "  'Ed Sheeran',\n",
       "  'Tape Machines',\n",
       "  'Billie Eilish',\n",
       "  'Beyoncé',\n",
       "  'Christina Perri',\n",
       "  'Shawn Mendes'],\n",
       " 'filmi': ['Hemant Kumar',\n",
       "  'Kishore Kumar',\n",
       "  'Geeta Dutt',\n",
       "  'Mohammed Rafi',\n",
       "  'Mukesh',\n",
       "  'Asha Bhosle',\n",
       "  'Lata Mangeshkar'],\n",
       " 'post-teen pop': ['Selena Gomez', 'Camila Cabello', 'Christina Perri'],\n",
       " 'chutney': ['Asha Bhosle'],\n",
       " 'neo mellow': ['Christina Perri'],\n",
       " 'k-pop': ['ROSÉ'],\n",
       " 'disney': ['Alan Menken'],\n",
       " 'eau claire indie': ['Bon Iver'],\n",
       " 'scandipop': ['Tape Machines'],\n",
       " 'mellow gold': ['Phil Collins'],\n",
       " 'dance pop': ['Selena Gomez',\n",
       "  'Lady Gaga',\n",
       "  'Britney Spears',\n",
       "  'Camila Cabello',\n",
       "  'Dua Lipa',\n",
       "  'Beyoncé',\n",
       "  'Christina Perri',\n",
       "  'Shawn Mendes'],\n",
       " 'classic rock': ['Queen'],\n",
       " 'vapor pop': ['Naomi Scott'],\n",
       " 'modern bollywood': ['Kishore Kumar'],\n",
       " 'australian country': ['Keith Urban'],\n",
       " 'classic bollywood': ['Hemant Kumar',\n",
       "  'Kishore Kumar',\n",
       "  'Geeta Dutt',\n",
       "  'Mohammed Rafi',\n",
       "  'Mukesh',\n",
       "  'Asha Bhosle',\n",
       "  'Lata Mangeshkar'],\n",
       " 'show tunes': ['Alan Menken', 'Idina Menzel'],\n",
       " 'indie folk': ['Bon Iver'],\n",
       " 'ghazal': ['Hemant Kumar', 'Geeta Dutt', 'Mukesh'],\n",
       " 'melancholia': ['Bon Iver'],\n",
       " 'hollywood': ['Naomi Scott',\n",
       "  'Evan Rachel Wood',\n",
       "  'Alan Menken',\n",
       "  'Idina Menzel'],\n",
       " 'country dawn': ['Miranda Lambert'],\n",
       " 'contemporary country': ['Keith Urban', 'Miranda Lambert', 'Maren Morris'],\n",
       " 'art pop': ['Lady Gaga', 'Billie Eilish'],\n",
       " 'pop soul': ['Adele'],\n",
       " 'soundtrack': ['Christophe Beck', 'Alan Menken'],\n",
       " 'viral pop': ['Christina Perri', 'Shawn Mendes'],\n",
       " 'orchestral soundtrack': ['Alan Menken'],\n",
       " 'sufi': ['Mohammed Rafi'],\n",
       " 'classic pakistani pop': ['Hemant Kumar', 'Geeta Dutt'],\n",
       " 'rabindra sangeet': ['Hemant Kumar'],\n",
       " 'uk pop': ['Lewis Capaldi',\n",
       "  'Adele',\n",
       "  'Camila Cabello',\n",
       "  'Dua Lipa',\n",
       "  'Ed Sheeran'],\n",
       " 'electro house': ['Alan Walker'],\n",
       " 'desi pop': ['Kishore Kumar',\n",
       "  'Mohammed Rafi',\n",
       "  'Mukesh',\n",
       "  'Asha Bhosle',\n",
       "  'Lata Mangeshkar'],\n",
       " 'pop rock': ['Christina Perri']}"
      ]
     },
     "execution_count": 40,
     "metadata": {},
     "output_type": "execute_result"
    }
   ],
   "source": [
    "genre_artist"
   ]
  },
  {
   "cell_type": "code",
   "execution_count": 37,
   "metadata": {},
   "outputs": [],
   "source": [
    "hindi_genres = ['desi pop', \"classic bollywood\", 'modern bollywood', \"ghazal\", 'desi pop','filmi']"
   ]
  },
  {
   "cell_type": "code",
   "execution_count": 38,
   "metadata": {},
   "outputs": [
    {
     "data": {
      "text/plain": [
       "7"
      ]
     },
     "execution_count": 38,
     "metadata": {},
     "output_type": "execute_result"
    }
   ],
   "source": [
    "hindi_artists = []\n",
    "for i in hindi_genres:\n",
    "    hindi_artists.extend(genre_artist[i])\n",
    "hindi_artists = list(set(hindi_artists))\n",
    "len(hindi_artists)"
   ]
  },
  {
   "cell_type": "code",
   "execution_count": 39,
   "metadata": {},
   "outputs": [
    {
     "data": {
      "text/plain": [
       "['Mukesh',\n",
       " 'Hemant Kumar',\n",
       " 'Lata Mangeshkar',\n",
       " 'Asha Bhosle',\n",
       " 'Mohammed Rafi',\n",
       " 'Geeta Dutt',\n",
       " 'Kishore Kumar']"
      ]
     },
     "execution_count": 39,
     "metadata": {},
     "output_type": "execute_result"
    }
   ],
   "source": [
    "hindi_artists"
   ]
  },
  {
   "cell_type": "code",
   "execution_count": 41,
   "metadata": {},
   "outputs": [],
   "source": [
    "language = []\n",
    "for artist in artists:\n",
    "    if artist in hindi_artists:\n",
    "        language.append(\"hindi\")\n",
    "    else:\n",
    "        language.append(\"english\")"
   ]
  },
  {
   "cell_type": "code",
   "execution_count": 42,
   "metadata": {},
   "outputs": [
    {
     "data": {
      "text/html": [
       "<div>\n",
       "<style scoped>\n",
       "    .dataframe tbody tr th:only-of-type {\n",
       "        vertical-align: middle;\n",
       "    }\n",
       "\n",
       "    .dataframe tbody tr th {\n",
       "        vertical-align: top;\n",
       "    }\n",
       "\n",
       "    .dataframe thead th {\n",
       "        text-align: right;\n",
       "    }\n",
       "</style>\n",
       "<table border=\"1\" class=\"dataframe\">\n",
       "  <thead>\n",
       "    <tr style=\"text-align: right;\">\n",
       "      <th></th>\n",
       "      <th>artist_id</th>\n",
       "      <th>artist_name</th>\n",
       "      <th>genres</th>\n",
       "      <th>popularity</th>\n",
       "      <th>artist_uri</th>\n",
       "      <th>followers</th>\n",
       "      <th>spotify_url</th>\n",
       "      <th>image_url</th>\n",
       "    </tr>\n",
       "  </thead>\n",
       "  <tbody>\n",
       "    <tr>\n",
       "      <th>0</th>\n",
       "      <td>02Um2HIOrUdsy3wqPBZwsj</td>\n",
       "      <td>Hemant Kumar</td>\n",
       "      <td>['classic bollywood', 'classic pakistani pop',...</td>\n",
       "      <td>52</td>\n",
       "      <td>spotify:artist:02Um2HIOrUdsy3wqPBZwsj</td>\n",
       "      <td>923384</td>\n",
       "      <td>https://open.spotify.com/artist/02Um2HIOrUdsy3...</td>\n",
       "      <td>https://i.scdn.co/image/ab67616d0000b2738c9945...</td>\n",
       "    </tr>\n",
       "    <tr>\n",
       "      <th>1</th>\n",
       "      <td>06HL4z0CvFAxyc27GXpf02</td>\n",
       "      <td>Taylor Swift</td>\n",
       "      <td>['pop']</td>\n",
       "      <td>94</td>\n",
       "      <td>spotify:artist:06HL4z0CvFAxyc27GXpf02</td>\n",
       "      <td>59135608</td>\n",
       "      <td>https://open.spotify.com/artist/06HL4z0CvFAxyc...</td>\n",
       "      <td>https://i.scdn.co/image/ab6761610000e5ebfcf7c3...</td>\n",
       "    </tr>\n",
       "    <tr>\n",
       "      <th>2</th>\n",
       "      <td>0C8ZW7ezQVs4URX5aX7Kqx</td>\n",
       "      <td>Selena Gomez</td>\n",
       "      <td>['dance pop', 'pop', 'post-teen pop']</td>\n",
       "      <td>83</td>\n",
       "      <td>spotify:artist:0C8ZW7ezQVs4URX5aX7Kqx</td>\n",
       "      <td>37486770</td>\n",
       "      <td>https://open.spotify.com/artist/0C8ZW7ezQVs4UR...</td>\n",
       "      <td>https://i.scdn.co/image/ab6761610000e5eba5205a...</td>\n",
       "    </tr>\n",
       "    <tr>\n",
       "      <th>3</th>\n",
       "      <td>0GF4shudTAFv8ak9eWdd4Y</td>\n",
       "      <td>Kishore Kumar</td>\n",
       "      <td>['classic bollywood', 'desi pop', 'filmi', 'mo...</td>\n",
       "      <td>70</td>\n",
       "      <td>spotify:artist:0GF4shudTAFv8ak9eWdd4Y</td>\n",
       "      <td>5374483</td>\n",
       "      <td>https://open.spotify.com/artist/0GF4shudTAFv8a...</td>\n",
       "      <td>https://i.scdn.co/image/ab6761610000e5ebc9ac92...</td>\n",
       "    </tr>\n",
       "    <tr>\n",
       "      <th>4</th>\n",
       "      <td>0QsbYX8XslSSUcztc6u4pO</td>\n",
       "      <td>Geeta Dutt</td>\n",
       "      <td>['classic bollywood', 'classic pakistani pop',...</td>\n",
       "      <td>47</td>\n",
       "      <td>spotify:artist:0QsbYX8XslSSUcztc6u4pO</td>\n",
       "      <td>663551</td>\n",
       "      <td>https://open.spotify.com/artist/0QsbYX8XslSSUc...</td>\n",
       "      <td>https://i.scdn.co/image/ab67616d0000b273f6d093...</td>\n",
       "    </tr>\n",
       "  </tbody>\n",
       "</table>\n",
       "</div>"
      ],
      "text/plain": [
       "                artist_id    artist_name  \\\n",
       "0  02Um2HIOrUdsy3wqPBZwsj   Hemant Kumar   \n",
       "1  06HL4z0CvFAxyc27GXpf02   Taylor Swift   \n",
       "2  0C8ZW7ezQVs4URX5aX7Kqx   Selena Gomez   \n",
       "3  0GF4shudTAFv8ak9eWdd4Y  Kishore Kumar   \n",
       "4  0QsbYX8XslSSUcztc6u4pO     Geeta Dutt   \n",
       "\n",
       "                                              genres  popularity  \\\n",
       "0  ['classic bollywood', 'classic pakistani pop',...          52   \n",
       "1                                            ['pop']          94   \n",
       "2              ['dance pop', 'pop', 'post-teen pop']          83   \n",
       "3  ['classic bollywood', 'desi pop', 'filmi', 'mo...          70   \n",
       "4  ['classic bollywood', 'classic pakistani pop',...          47   \n",
       "\n",
       "                              artist_uri  followers  \\\n",
       "0  spotify:artist:02Um2HIOrUdsy3wqPBZwsj     923384   \n",
       "1  spotify:artist:06HL4z0CvFAxyc27GXpf02   59135608   \n",
       "2  spotify:artist:0C8ZW7ezQVs4URX5aX7Kqx   37486770   \n",
       "3  spotify:artist:0GF4shudTAFv8ak9eWdd4Y    5374483   \n",
       "4  spotify:artist:0QsbYX8XslSSUcztc6u4pO     663551   \n",
       "\n",
       "                                         spotify_url  \\\n",
       "0  https://open.spotify.com/artist/02Um2HIOrUdsy3...   \n",
       "1  https://open.spotify.com/artist/06HL4z0CvFAxyc...   \n",
       "2  https://open.spotify.com/artist/0C8ZW7ezQVs4UR...   \n",
       "3  https://open.spotify.com/artist/0GF4shudTAFv8a...   \n",
       "4  https://open.spotify.com/artist/0QsbYX8XslSSUc...   \n",
       "\n",
       "                                           image_url  \n",
       "0  https://i.scdn.co/image/ab67616d0000b2738c9945...  \n",
       "1  https://i.scdn.co/image/ab6761610000e5ebfcf7c3...  \n",
       "2  https://i.scdn.co/image/ab6761610000e5eba5205a...  \n",
       "3  https://i.scdn.co/image/ab6761610000e5ebc9ac92...  \n",
       "4  https://i.scdn.co/image/ab67616d0000b273f6d093...  "
      ]
     },
     "execution_count": 42,
     "metadata": {},
     "output_type": "execute_result"
    }
   ],
   "source": [
    "artists = pd.read_csv(\"data/artists.csv\")\n",
    "artists.head()"
   ]
  },
  {
   "cell_type": "code",
   "execution_count": 43,
   "metadata": {},
   "outputs": [],
   "source": [
    "artists[\"language\"] = language"
   ]
  },
  {
   "cell_type": "code",
   "execution_count": 44,
   "metadata": {},
   "outputs": [],
   "source": [
    "artists.to_csv(\"data/artists.csv\", index=False)"
   ]
  },
  {
   "cell_type": "code",
   "execution_count": 45,
   "metadata": {},
   "outputs": [
    {
     "data": {
      "text/plain": [
       "english    33\n",
       "hindi       7\n",
       "Name: language, dtype: int64"
      ]
     },
     "execution_count": 45,
     "metadata": {},
     "output_type": "execute_result"
    }
   ],
   "source": [
    "artists[\"language\"].value_counts()"
   ]
  },
  {
   "cell_type": "code",
   "execution_count": 7,
   "metadata": {},
   "outputs": [],
   "source": [
    "token = spotipy.util.prompt_for_user_token(client_id= config(\"SPOTIFYID\"), client_secret= config(\"SPOTIFYPASSWORD\"), redirect_uri='http://mysite.com/callback/', \n",
    "    scope='playlist-read-private user-modify-playback-state playlist-modify-public user-read-recently-played user-follow-read user-follow-modify')\n",
    "sp = spotipy.Spotify(auth=token)"
   ]
  },
  {
   "cell_type": "code",
   "execution_count": 8,
   "metadata": {},
   "outputs": [],
   "source": [
    "USER = \"392uowv8fh00b9ie6ccn9cegs\""
   ]
  },
  {
   "cell_type": "code",
   "execution_count": 9,
   "metadata": {},
   "outputs": [],
   "source": [
    "following = sp.current_user_followed_artists(limit=50, after=None)"
   ]
  },
  {
   "cell_type": "code",
   "execution_count": 10,
   "metadata": {},
   "outputs": [
    {
     "data": {
      "text/html": [
       "<div>\n",
       "<style scoped>\n",
       "    .dataframe tbody tr th:only-of-type {\n",
       "        vertical-align: middle;\n",
       "    }\n",
       "\n",
       "    .dataframe tbody tr th {\n",
       "        vertical-align: top;\n",
       "    }\n",
       "\n",
       "    .dataframe thead th {\n",
       "        text-align: right;\n",
       "    }\n",
       "</style>\n",
       "<table border=\"1\" class=\"dataframe\">\n",
       "  <thead>\n",
       "    <tr style=\"text-align: right;\">\n",
       "      <th></th>\n",
       "      <th>0</th>\n",
       "      <th>1</th>\n",
       "    </tr>\n",
       "  </thead>\n",
       "  <tbody>\n",
       "    <tr>\n",
       "      <th>external_urls</th>\n",
       "      <td>{'spotify': 'https://open.spotify.com/artist/0...</td>\n",
       "      <td>{'spotify': 'https://open.spotify.com/artist/0...</td>\n",
       "    </tr>\n",
       "    <tr>\n",
       "      <th>followers</th>\n",
       "      <td>{'href': None, 'total': 1059591}</td>\n",
       "      <td>{'href': None, 'total': 64546282}</td>\n",
       "    </tr>\n",
       "    <tr>\n",
       "      <th>genres</th>\n",
       "      <td>[classic bollywood, classic pakistani pop, fil...</td>\n",
       "      <td>[pop]</td>\n",
       "    </tr>\n",
       "    <tr>\n",
       "      <th>href</th>\n",
       "      <td>https://api.spotify.com/v1/artists/02Um2HIOrUd...</td>\n",
       "      <td>https://api.spotify.com/v1/artists/06HL4z0CvFA...</td>\n",
       "    </tr>\n",
       "    <tr>\n",
       "      <th>id</th>\n",
       "      <td>02Um2HIOrUdsy3wqPBZwsj</td>\n",
       "      <td>06HL4z0CvFAxyc27GXpf02</td>\n",
       "    </tr>\n",
       "    <tr>\n",
       "      <th>images</th>\n",
       "      <td>[{'height': 640, 'url': 'https://i.scdn.co/ima...</td>\n",
       "      <td>[{'height': 640, 'url': 'https://i.scdn.co/ima...</td>\n",
       "    </tr>\n",
       "    <tr>\n",
       "      <th>name</th>\n",
       "      <td>Hemant Kumar</td>\n",
       "      <td>Taylor Swift</td>\n",
       "    </tr>\n",
       "    <tr>\n",
       "      <th>popularity</th>\n",
       "      <td>54</td>\n",
       "      <td>100</td>\n",
       "    </tr>\n",
       "    <tr>\n",
       "      <th>type</th>\n",
       "      <td>artist</td>\n",
       "      <td>artist</td>\n",
       "    </tr>\n",
       "    <tr>\n",
       "      <th>uri</th>\n",
       "      <td>spotify:artist:02Um2HIOrUdsy3wqPBZwsj</td>\n",
       "      <td>spotify:artist:06HL4z0CvFAxyc27GXpf02</td>\n",
       "    </tr>\n",
       "  </tbody>\n",
       "</table>\n",
       "</div>"
      ],
      "text/plain": [
       "                                                               0  \\\n",
       "external_urls  {'spotify': 'https://open.spotify.com/artist/0...   \n",
       "followers                       {'href': None, 'total': 1059591}   \n",
       "genres         [classic bollywood, classic pakistani pop, fil...   \n",
       "href           https://api.spotify.com/v1/artists/02Um2HIOrUd...   \n",
       "id                                        02Um2HIOrUdsy3wqPBZwsj   \n",
       "images         [{'height': 640, 'url': 'https://i.scdn.co/ima...   \n",
       "name                                                Hemant Kumar   \n",
       "popularity                                                    54   \n",
       "type                                                      artist   \n",
       "uri                        spotify:artist:02Um2HIOrUdsy3wqPBZwsj   \n",
       "\n",
       "                                                               1  \n",
       "external_urls  {'spotify': 'https://open.spotify.com/artist/0...  \n",
       "followers                      {'href': None, 'total': 64546282}  \n",
       "genres                                                     [pop]  \n",
       "href           https://api.spotify.com/v1/artists/06HL4z0CvFA...  \n",
       "id                                        06HL4z0CvFAxyc27GXpf02  \n",
       "images         [{'height': 640, 'url': 'https://i.scdn.co/ima...  \n",
       "name                                                Taylor Swift  \n",
       "popularity                                                   100  \n",
       "type                                                      artist  \n",
       "uri                        spotify:artist:06HL4z0CvFAxyc27GXpf02  "
      ]
     },
     "execution_count": 10,
     "metadata": {},
     "output_type": "execute_result"
    }
   ],
   "source": [
    "artists_raw = pd.DataFrame(following['artists']['items'])\n",
    "artists_raw.head(2).T"
   ]
  },
  {
   "cell_type": "code",
   "execution_count": 46,
   "metadata": {},
   "outputs": [
    {
     "data": {
      "text/plain": [
       "40"
      ]
     },
     "execution_count": 46,
     "metadata": {},
     "output_type": "execute_result"
    }
   ],
   "source": [
    "len(artists_raw)"
   ]
  },
  {
   "cell_type": "code",
   "execution_count": 17,
   "metadata": {},
   "outputs": [
    {
     "data": {
      "text/plain": [
       "{'external_urls': {'spotify': 'https://open.spotify.com/artist/4PULA4EFzYTrxYvOVlwpiQ'},\n",
       " 'followers': {'href': None, 'total': 13377664},\n",
       " 'genres': ['desi hip hop', 'pakistani hip hop', 'punjabi hip hop'],\n",
       " 'href': 'https://api.spotify.com/v1/artists/4PULA4EFzYTrxYvOVlwpiQ',\n",
       " 'id': '4PULA4EFzYTrxYvOVlwpiQ',\n",
       " 'images': [{'height': 640,\n",
       "   'url': 'https://i.scdn.co/image/ab6761610000e5eb65d54c88ab4c1abf204b360f',\n",
       "   'width': 640},\n",
       "  {'height': 320,\n",
       "   'url': 'https://i.scdn.co/image/ab6761610000517465d54c88ab4c1abf204b360f',\n",
       "   'width': 320},\n",
       "  {'height': 160,\n",
       "   'url': 'https://i.scdn.co/image/ab6761610000f17865d54c88ab4c1abf204b360f',\n",
       "   'width': 160}],\n",
       " 'name': 'Sidhu Moose Wala',\n",
       " 'popularity': 80,\n",
       " 'type': 'artist',\n",
       " 'uri': 'spotify:artist:4PULA4EFzYTrxYvOVlwpiQ'}"
      ]
     },
     "execution_count": 17,
     "metadata": {},
     "output_type": "execute_result"
    }
   ],
   "source": [
    "artist_id = \"4PULA4EFzYTrxYvOVlwpiQ\"\n",
    "artist = sp.artist(artist_id)\n",
    "artist"
   ]
  },
  {
   "cell_type": "code",
   "execution_count": 14,
   "metadata": {},
   "outputs": [],
   "source": [
    "artist_albums = sp.artist_albums(artist_id, album_type='album')\n",
    "album1 = artist_albums[\"items\"][0]"
   ]
  },
  {
   "cell_type": "code",
   "execution_count": 16,
   "metadata": {},
   "outputs": [
    {
     "data": {
      "text/plain": [
       "183"
      ]
     },
     "execution_count": 16,
     "metadata": {},
     "output_type": "execute_result"
    }
   ],
   "source": [
    "len(album1[\"available_markets\"])"
   ]
  },
  {
   "cell_type": "code",
   "execution_count": null,
   "metadata": {},
   "outputs": [],
   "source": []
  }
 ],
 "metadata": {
  "kernelspec": {
   "display_name": "Python 3.9.12 ('data-science')",
   "language": "python",
   "name": "python3"
  },
  "language_info": {
   "codemirror_mode": {
    "name": "ipython",
    "version": 3
   },
   "file_extension": ".py",
   "mimetype": "text/x-python",
   "name": "python",
   "nbconvert_exporter": "python",
   "pygments_lexer": "ipython3",
   "version": "3.9.15"
  },
  "orig_nbformat": 4,
  "vscode": {
   "interpreter": {
    "hash": "2efee1efa502125d01e6b4768ba06d9453d29f3642bfd14ad5d4a769de82e88c"
   }
  }
 },
 "nbformat": 4,
 "nbformat_minor": 2
}
